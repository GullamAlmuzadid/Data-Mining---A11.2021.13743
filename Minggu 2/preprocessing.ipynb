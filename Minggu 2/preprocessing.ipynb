{
 "cells": [
  {
   "cell_type": "code",
   "execution_count": 1,
   "metadata": {},
   "outputs": [],
   "source": [
    "import numpy as np\n",
    "import matplotlib.pyplot as plt\n",
    "import pandas as pd"
   ]
  },
  {
   "cell_type": "code",
   "execution_count": 2,
   "metadata": {},
   "outputs": [],
   "source": [
    "dataset = pd.read_csv('movies.csv')\n",
    "x = dataset.iloc[:, :-1].values\n",
    "y = dataset.iloc[:, -1].values"
   ]
  },
  {
   "cell_type": "code",
   "execution_count": 3,
   "metadata": {},
   "outputs": [
    {
     "name": "stdout",
     "output_type": "stream",
     "text": [
      "[['Avatar: The Way of Water' 7.8 2022 ... 'New Zealand' '$350,000,000 '\n",
      "  '$2,267,946,983 ']\n",
      " [\"Guillermo del Toro's Pinocchio\" 7.6 2022 ... 'USA' '$35,000,000 '\n",
      "  '$108,967 ']\n",
      " ['Bullet Train' 7.3 2022 ... 'Japan' '$85,900,000 ' '$239,268,602 ']\n",
      " ...\n",
      " ['Gothika' 5.8 2003 ... 'Canada' '$40,000,000 ' '$141,591,324 ']\n",
      " ['Ong-Bak: The Thai Warrior' 7.1 2003 ... 'Thailand' 'Unknown'\n",
      "  '$20,235,426 ']\n",
      " ['Open Water' 5.8 2003 ... 'Bahamas' '$500,000 ' '$54,683,487 ']]\n"
     ]
    }
   ],
   "source": [
    "print(x)"
   ]
  },
  {
   "cell_type": "code",
   "execution_count": 4,
   "metadata": {},
   "outputs": [
    {
     "name": "stdout",
     "output_type": "stream",
     "text": [
      "['United States' 'United States, Mexico, France' 'Japan, United States'\n",
      " ... 'United States, France, Canada, Spain' 'Thailand, France, Hong Kong'\n",
      " 'United States']\n"
     ]
    }
   ],
   "source": [
    "print(y)"
   ]
  },
  {
   "cell_type": "code",
   "execution_count": 6,
   "metadata": {},
   "outputs": [],
   "source": [
    "from sklearn.impute import SimpleImputer\n",
    "imputer = SimpleImputer(missing_values=np.nan, strategy='mean')\n",
    "imputer.fit(x[:, 1:3])\n",
    "x[:, 1:3] = imputer.transform(x[:, 1:3])"
   ]
  },
  {
   "cell_type": "code",
   "execution_count": 7,
   "metadata": {},
   "outputs": [
    {
     "name": "stdout",
     "output_type": "stream",
     "text": [
      "[['Avatar: The Way of Water' 7.8 2022.0 ... 'New Zealand' '$350,000,000 '\n",
      "  '$2,267,946,983 ']\n",
      " [\"Guillermo del Toro's Pinocchio\" 7.6 2022.0 ... 'USA' '$35,000,000 '\n",
      "  '$108,967 ']\n",
      " ['Bullet Train' 7.3 2022.0 ... 'Japan' '$85,900,000 ' '$239,268,602 ']\n",
      " ...\n",
      " ['Gothika' 5.8 2003.0 ... 'Canada' '$40,000,000 ' '$141,591,324 ']\n",
      " ['Ong-Bak: The Thai Warrior' 7.1 2003.0 ... 'Thailand' 'Unknown'\n",
      "  '$20,235,426 ']\n",
      " ['Open Water' 5.8 2003.0 ... 'Bahamas' '$500,000 ' '$54,683,487 ']]\n"
     ]
    }
   ],
   "source": [
    "print(x)"
   ]
  },
  {
   "cell_type": "code",
   "execution_count": 8,
   "metadata": {},
   "outputs": [
    {
     "name": "stderr",
     "output_type": "stream",
     "text": [
      "c:\\Users\\asus\\anaconda3\\lib\\site-packages\\sklearn\\preprocessing\\_encoders.py:828: FutureWarning: `sparse` was renamed to `sparse_output` in version 1.2 and will be removed in 1.4. `sparse_output` is ignored unless you leave `sparse` to its default value.\n",
      "  warnings.warn(\n"
     ]
    }
   ],
   "source": [
    "from sklearn.compose import ColumnTransformer\n",
    "from sklearn.preprocessing import OneHotEncoder\n",
    "ct = ColumnTransformer(transformers=[('encoder', OneHotEncoder(sparse=False), [0])], remainder='passthrough')\n",
    "x = np.array(ct.fit_transform(x))"
   ]
  },
  {
   "cell_type": "code",
   "execution_count": 9,
   "metadata": {},
   "outputs": [
    {
     "name": "stdout",
     "output_type": "stream",
     "text": [
      "[[0.0 0.0 0.0 ... 'New Zealand' '$350,000,000 ' '$2,267,946,983 ']\n",
      " [0.0 0.0 0.0 ... 'USA' '$35,000,000 ' '$108,967 ']\n",
      " [0.0 0.0 0.0 ... 'Japan' '$85,900,000 ' '$239,268,602 ']\n",
      " ...\n",
      " [0.0 0.0 0.0 ... 'Canada' '$40,000,000 ' '$141,591,324 ']\n",
      " [0.0 0.0 0.0 ... 'Thailand' 'Unknown' '$20,235,426 ']\n",
      " [0.0 0.0 0.0 ... 'Bahamas' '$500,000 ' '$54,683,487 ']]\n"
     ]
    }
   ],
   "source": [
    "print(x)"
   ]
  },
  {
   "cell_type": "code",
   "execution_count": 10,
   "metadata": {},
   "outputs": [],
   "source": [
    "from sklearn.preprocessing import LabelEncoder\n",
    "le = LabelEncoder()\n",
    "y = le.fit_transform(y)"
   ]
  },
  {
   "cell_type": "code",
   "execution_count": 11,
   "metadata": {},
   "outputs": [
    {
     "name": "stdout",
     "output_type": "stream",
     "text": [
      "[245 355 121 ... 293 172 245]\n"
     ]
    }
   ],
   "source": [
    "print(y)"
   ]
  },
  {
   "cell_type": "code",
   "execution_count": 12,
   "metadata": {},
   "outputs": [],
   "source": [
    "from sklearn.model_selection import train_test_split\n",
    "x_train, x_test, y_train, y_test = train_test_split(x, y, test_size=0.2, random_state=1)\n"
   ]
  },
  {
   "cell_type": "code",
   "execution_count": 13,
   "metadata": {},
   "outputs": [
    {
     "name": "stdout",
     "output_type": "stream",
     "text": [
      "[[0.0 0.0 0.0 ... 'New Zealand' '$350,000,000 ' '$2,267,946,983 ']\n",
      " [0.0 0.0 0.0 ... 'Norway' '$15,000,000 ' '$37,394,629 ']\n",
      " [0.0 0.0 0.0 ... 'USA' '$8,500,000 ' '$43,709,744 ']\n",
      " ...\n",
      " [0.0 0.0 0.0 ... 'USA' '$28,000,000 ' '$90,259,536 ']\n",
      " [0.0 0.0 0.0 ... 'Bangladesh' '$65,000,000 ' 'Unknown']\n",
      " [0.0 0.0 0.0 ... 'USA' 'Unknown' '$23,812,816 ']]\n"
     ]
    }
   ],
   "source": [
    "print(x_train)"
   ]
  },
  {
   "cell_type": "code",
   "execution_count": 14,
   "metadata": {},
   "outputs": [
    {
     "name": "stdout",
     "output_type": "stream",
     "text": [
      "[[0.0 0.0 0.0 ... 'USA' '$135,000,000 ' '$245,623,848 ']\n",
      " [0.0 0.0 0.0 ... 'Unknown' '$80,000,000 ' '$667,094,506 ']\n",
      " [0.0 0.0 0.0 ... 'Ireland' '$19,000,000 ' '$32,686,500 ']\n",
      " ...\n",
      " [0.0 0.0 0.0 ... 'Mexico' '$170,000,000 ' '$386,600,138 ']\n",
      " [0.0 0.0 0.0 ... 'USA' '$2,000,000 ' '$5,557,564 ']\n",
      " [0.0 0.0 0.0 ... 'Unknown' '$24,000,000 ' '$237,536,126 ']]\n"
     ]
    }
   ],
   "source": [
    "print(x_test)"
   ]
  },
  {
   "cell_type": "code",
   "execution_count": 15,
   "metadata": {},
   "outputs": [
    {
     "name": "stdout",
     "output_type": "stream",
     "text": [
      "[245 176 245 ... 245 245 245]\n"
     ]
    }
   ],
   "source": [
    "print(y_train)"
   ]
  },
  {
   "cell_type": "code",
   "execution_count": 16,
   "metadata": {},
   "outputs": [
    {
     "name": "stdout",
     "output_type": "stream",
     "text": [
      "[329 245 336  16 245 245 261 245 159 229 245 245 301 245 245 169 245 275\n",
      "  54 245 245 245 245 245 245  80 245 261 245 245 245 383  32 229 245 108\n",
      " 245 245 245 245 170 245 160 334 245 261 245  59 383 245  59 161 261 245\n",
      " 245 383 229 245 245 245 377 245 229 176 393 245 157 274 237 229 245 245\n",
      " 245 301 245 313 222 245  83  27 137 184 261 261 348 245 245 245 261 261\n",
      " 104 245 167 301 393 204 221 251 245 159 245 245 112 245  29 245 245 343\n",
      " 245 312 346 240 383 194 127 264 383 185 245 245 245 245 287 245 245 404\n",
      " 245 245  38 261 245 383 245 245 196  23 245 360 245 275 245 363  23  55\n",
      " 261 307 245 245 245 310 165 261 245 229 245 353 383 332   8 176 334 245\n",
      " 364 245 229 245 383  23 245  97 130 245 245 334 245 190 392 245 245  57\n",
      " 245 245 245 245 245 350 200 200  46 351 339  23 383  83 383  97 245 245\n",
      " 349 211 245 392 155 292 245   3 320 119 245 343 176 337 372 285   6 158\n",
      " 136 245 245 239 245 383 383 245  93 245 245 256  29 171 200 245 194 245\n",
      " 129 245 245 245 245 245 227 229 277 245 245 383 245 245 245 308 261 232\n",
      " 245 209 245 245 245 245 245 383 245 383 245 245 316 382 261  16 206 245\n",
      " 245 261 229 229 245 261  97 229 245 245 245 274 331 191 245 245  67 245\n",
      " 245 136 261 229 245 245 245 245 261 245 383 275 245 245 245 290 245 245\n",
      " 200 383 229 245 245 245 245  15 266 245 268 228 245 245 245 245 229 383\n",
      " 245 338  23 326 194 133 245 302 245 245 302 245 245 261 245 245  23 245\n",
      " 383 245 245 245 245 109 245 245 261 275 343 245 357 275 289  19 245  81\n",
      " 179 338 245 245 245  45 274 245 245 233 245 247 245 176  96 333  61 383\n",
      " 301 247 135 245 245 245 245 245  83 245 318 245 163 230 334 219 245 245\n",
      " 127 347 245 119]\n"
     ]
    }
   ],
   "source": [
    "print(y_test)"
   ]
  },
  {
   "cell_type": "code",
   "execution_count": 17,
   "metadata": {},
   "outputs": [
    {
     "name": "stderr",
     "output_type": "stream",
     "text": [
      "C:\\Users\\asus\\AppData\\Local\\Temp\\ipykernel_23308\\788571746.py:7: FutureWarning: In a future version, the Index constructor will not infer numeric dtypes when passed object-dtype sequences (matching Series behavior)\n",
      "  ohe = pd.get_dummies(pd.concat([pd.DataFrame(x_train_categorical), pd.DataFrame(x_test_categorical)]))\n"
     ]
    }
   ],
   "source": [
    "import pandas as pd\n",
    "\n",
    "categorical_cols = [3]\n",
    "x_train_categorical = x_train[:, categorical_cols]\n",
    "x_test_categorical = x_test[:, categorical_cols]\n",
    "\n",
    "ohe = pd.get_dummies(pd.concat([pd.DataFrame(x_train_categorical), pd.DataFrame(x_test_categorical)]))\n",
    "x_train_ohe = ohe[:len(x_train_categorical)]\n",
    "x_test_ohe = ohe[len(x_train_categorical):]\n",
    "\n",
    "x_train_processed = np.hstack((x_train[:, :3], x_train_ohe.values, x_train[:, 4:]))\n",
    "x_test_processed = np.hstack((x_test[:, :3], x_test_ohe.values, x_test[:, 4:]))\n"
   ]
  },
  {
   "cell_type": "code",
   "execution_count": 18,
   "metadata": {},
   "outputs": [
    {
     "name": "stdout",
     "output_type": "stream",
     "text": [
      "[[0.0 0.0 0.0 ... 'New Zealand' '$350,000,000 ' '$2,267,946,983 ']\n",
      " [0.0 0.0 0.0 ... 'Norway' '$15,000,000 ' '$37,394,629 ']\n",
      " [0.0 0.0 0.0 ... 'USA' '$8,500,000 ' '$43,709,744 ']\n",
      " ...\n",
      " [0.0 0.0 0.0 ... 'USA' '$28,000,000 ' '$90,259,536 ']\n",
      " [0.0 0.0 0.0 ... 'Bangladesh' '$65,000,000 ' 'Unknown']\n",
      " [0.0 0.0 0.0 ... 'USA' 'Unknown' '$23,812,816 ']]\n"
     ]
    }
   ],
   "source": [
    "print(x_train)"
   ]
  },
  {
   "cell_type": "code",
   "execution_count": 19,
   "metadata": {},
   "outputs": [
    {
     "name": "stdout",
     "output_type": "stream",
     "text": [
      "[[0.0 0.0 0.0 ... 'USA' '$135,000,000 ' '$245,623,848 ']\n",
      " [0.0 0.0 0.0 ... 'Unknown' '$80,000,000 ' '$667,094,506 ']\n",
      " [0.0 0.0 0.0 ... 'Ireland' '$19,000,000 ' '$32,686,500 ']\n",
      " ...\n",
      " [0.0 0.0 0.0 ... 'Mexico' '$170,000,000 ' '$386,600,138 ']\n",
      " [0.0 0.0 0.0 ... 'USA' '$2,000,000 ' '$5,557,564 ']\n",
      " [0.0 0.0 0.0 ... 'Unknown' '$24,000,000 ' '$237,536,126 ']]\n"
     ]
    }
   ],
   "source": [
    "print(x_test)"
   ]
  }
 ],
 "metadata": {
  "kernelspec": {
   "display_name": "base",
   "language": "python",
   "name": "python3"
  },
  "language_info": {
   "codemirror_mode": {
    "name": "ipython",
    "version": 3
   },
   "file_extension": ".py",
   "mimetype": "text/x-python",
   "name": "python",
   "nbconvert_exporter": "python",
   "pygments_lexer": "ipython3",
   "version": "3.10.9"
  },
  "orig_nbformat": 4
 },
 "nbformat": 4,
 "nbformat_minor": 2
}
